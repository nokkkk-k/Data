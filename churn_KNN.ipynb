{
 "cells": [
  {
   "cell_type": "code",
   "execution_count": 1,
   "id": "1b1b5770",
   "metadata": {},
   "outputs": [
    {
     "name": "stdout",
     "output_type": "stream",
     "text": [
      "(n_neighbors=1) 테스트 세트의 정확도: 0.84\n",
      "(n_neighbors=3) 테스트 세트의 정확도: 0.88\n",
      "(3333, 17)\n"
     ]
    },
    {
     "data": {
      "text/plain": [
       "(483, 17)"
      ]
     },
     "execution_count": 1,
     "metadata": {},
     "output_type": "execute_result"
    }
   ],
   "source": [
    "import pandas as pd\n",
    "data=pd.read_csv('Churn.csv')\n",
    "X, y=data.iloc[:,1:], data['Churn']\n",
    "from sklearn.model_selection import train_test_split\n",
    "from sklearn.neighbors import KNeighborsClassifier\n",
    "X_train, X_test, y_train, y_test = train_test_split(\n",
    "    X, y, stratify=data['Churn'],random_state=0)\n",
    "\n",
    "knn = KNeighborsClassifier(n_neighbors=1)\n",
    "knn.fit(X_train, y_train)\n",
    "\n",
    "print(\"(n_neighbors=1) 테스트 세트의 정확도: {:.2f}\".format(knn.score(X_test, y_test)))\n",
    "\n",
    "knn = KNeighborsClassifier(n_neighbors=3)\n",
    "knn.fit(X_train, y_train)\n",
    "\n",
    "print(\"(n_neighbors=3) 테스트 세트의 정확도: {:.2f}\".format(knn.score(X_test, y_test)))\n",
    "\n",
    "print(data.shape)\n",
    "data[data['Churn']==1].shape"
   ]
  },
  {
   "cell_type": "code",
   "execution_count": null,
   "id": "a7a6d09f",
   "metadata": {},
   "outputs": [],
   "source": []
  }
 ],
 "metadata": {
  "kernelspec": {
   "display_name": "Python 3",
   "language": "python",
   "name": "python3"
  },
  "language_info": {
   "codemirror_mode": {
    "name": "ipython",
    "version": 3
   },
   "file_extension": ".py",
   "mimetype": "text/x-python",
   "name": "python",
   "nbconvert_exporter": "python",
   "pygments_lexer": "ipython3",
   "version": "3.8.8"
  }
 },
 "nbformat": 4,
 "nbformat_minor": 5
}
